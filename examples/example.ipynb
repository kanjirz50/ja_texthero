{
 "cells": [
  {
   "cell_type": "code",
   "execution_count": null,
   "id": "59b19b23-1dc9-4e2b-9aac-4b8d2b171b81",
   "metadata": {},
   "outputs": [],
   "source": [
    "%matplotlib inline"
   ]
  },
  {
   "cell_type": "code",
   "execution_count": null,
   "id": "ba50c54f-0e72-404c-8c2b-b5a896ff127d",
   "metadata": {},
   "outputs": [],
   "source": [
    "import glob\n",
    "from collections import defaultdict\n",
    "\n",
    "import texthero as hero\n",
    "import pandas as pd\n",
    "\n",
    "import ja_texthero as ja_hero"
   ]
  },
  {
   "cell_type": "markdown",
   "id": "754d1728-d3e3-4f2c-b406-f3e4cebe3e9e",
   "metadata": {},
   "source": [
    "livedoor ニュースコーパスをダウンロードおよび展開する。\n",
    "ここでは、`./data/text/{ category }/*.txt` にあるとする。"
   ]
  },
  {
   "cell_type": "code",
   "execution_count": null,
   "id": "71dad551-c054-4f4b-9e1f-59c2268be3a4",
   "metadata": {},
   "outputs": [],
   "source": [
    "categories = [\n",
    "    \"dokujo-tsushin\",\n",
    "    \"it-life-hack\",\n",
    "    \"kaden-channel\",\n",
    "    \"livedoor-homme\",\n",
    "    \"movie-enter\",\n",
    "    \"peachy\",\n",
    "    \"smax\",\n",
    "    \"sports-watch\",\n",
    "]\n",
    "\n",
    "corpus = []\n",
    "\n",
    "for category in categories:\n",
    "    for textfile_path in glob.glob(f\"./data/text/{ category }/*.txt\"):\n",
    "        try:\n",
    "            with open(textfile_path, \"rt\") as fin:\n",
    "                document = {\n",
    "                    \"category\": category,\n",
    "                    \"text\": fin.read().strip().split(\"\\n\")[2],\n",
    "                }\n",
    "                corpus.append(document)\n",
    "        except:\n",
    "            continue"
   ]
  },
  {
   "cell_type": "code",
   "execution_count": null,
   "id": "eb372ca8-41a3-4465-89c5-9e5bc7d1df97",
   "metadata": {},
   "outputs": [],
   "source": [
    "df = pd.DataFrame(corpus)"
   ]
  },
  {
   "cell_type": "code",
   "execution_count": null,
   "id": "1a9a5d62-93bd-4d41-a47c-63ea23ac0eae",
   "metadata": {},
   "outputs": [],
   "source": [
    "df.head(3)"
   ]
  },
  {
   "cell_type": "code",
   "execution_count": null,
   "id": "3e316e12-e8a9-45d6-9533-9a6eb165ea38",
   "metadata": {},
   "outputs": [],
   "source": [
    "df[\"tfidf\"] = (\n",
    "    df['text']\n",
    "    .pipe(ja_hero.tokenize)\n",
    "    .pipe(hero.tfidf)\n",
    ")"
   ]
  },
  {
   "cell_type": "code",
   "execution_count": null,
   "id": "62777c95-5ce1-42e7-be26-432e37a6adbb",
   "metadata": {
    "tags": []
   },
   "outputs": [],
   "source": [
    "df['kmeans_labels'] = (\n",
    "    df['tfidf']\n",
    "    .pipe(hero.kmeans, n_clusters=8)\n",
    "    .astype(str)\n",
    ")"
   ]
  },
  {
   "cell_type": "code",
   "execution_count": null,
   "id": "f4c7e6ed-42c7-437e-8534-489707585002",
   "metadata": {},
   "outputs": [],
   "source": [
    "df['pca'] = df['tfidf'].pipe(hero.pca)"
   ]
  },
  {
   "cell_type": "code",
   "execution_count": null,
   "id": "1312c939-1b8a-4e51-9049-b2f91502526f",
   "metadata": {},
   "outputs": [],
   "source": [
    "hero.scatterplot(df, 'pca', color='category', title=\"K-means Livedoor News Corpus\")"
   ]
  },
  {
   "cell_type": "code",
   "execution_count": null,
   "id": "ec9c44c9-7555-4e54-a864-19fbf4cb0a15",
   "metadata": {},
   "outputs": [],
   "source": []
  }
 ],
 "metadata": {
  "kernelspec": {
   "display_name": "ja_texthero-3.8.9",
   "language": "python",
   "name": "ja_texthero-3.8.9"
  },
  "language_info": {
   "codemirror_mode": {
    "name": "ipython",
    "version": 3
   },
   "file_extension": ".py",
   "mimetype": "text/x-python",
   "name": "python",
   "nbconvert_exporter": "python",
   "pygments_lexer": "ipython3",
   "version": "3.8.9"
  }
 },
 "nbformat": 4,
 "nbformat_minor": 5
}
